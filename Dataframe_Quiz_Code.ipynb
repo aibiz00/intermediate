{
 "cells": [
  {
   "cell_type": "code",
   "execution_count": 1,
   "id": "1393e5f6",
   "metadata": {},
   "outputs": [
    {
     "name": "stdout",
     "output_type": "stream",
     "text": [
      "           Date    Company        Open        High         Low       Close\n",
      "0    2023-01-01      Apple  137.454012  138.233984  126.044793  126.335211\n",
      "1    2023-01-01     Google  186.617615  192.812211  183.077252  189.806636\n",
      "2    2023-01-01  Microsoft  102.058449  102.975472   94.728457   96.249668\n",
      "3    2023-01-02      Apple  152.475643  154.635368  145.767799  147.223945\n",
      "4    2023-01-02     Google  161.185289  163.017099  154.624479  156.904829\n",
      "..          ...        ...         ...         ...         ...         ...\n",
      "295  2023-04-09     Google  129.166258  132.641167  117.984049  122.284661\n",
      "296  2023-04-09  Microsoft  177.985099  178.509750  176.533104  177.743329\n",
      "297  2023-04-10      Apple  198.666259  199.378737  190.461771  192.956212\n",
      "298  2023-04-10     Google  161.815573  167.113315  160.183267  167.064461\n",
      "299  2023-04-10  Microsoft  151.771164  170.026748  150.018030  169.587415\n",
      "\n",
      "[300 rows x 6 columns]\n",
      "Google\n",
      "73.54412574081596 209.2434840871398\n",
      "2023-03-28\n"
     ]
    },
    {
     "name": "stderr",
     "output_type": "stream",
     "text": [
      "C:\\Users\\pitbull\\AppData\\Local\\Temp\\ipykernel_25304\\1970473601.py:22: SettingWithCopyWarning: \n",
      "A value is trying to be set on a copy of a slice from a DataFrame.\n",
      "Try using .loc[row_indexer,col_indexer] = value instead\n",
      "\n",
      "See the caveats in the documentation: https://pandas.pydata.org/pandas-docs/stable/user_guide/indexing.html#returning-a-view-versus-a-copy\n",
      "  apple_data['Change'] = (apple_data['Close'] - apple_data['Open']) / apple_data['Open'] * 100\n"
     ]
    }
   ],
   "source": [
    "import pandas as pd\n",
    "\n",
    "#CSV 데이터 읽어오기\n",
    "filename = 'stock_data.csv'\n",
    "df = pd.read_csv(filename)\n",
    "print(df)\n",
    "\n",
    "#가장 높은 평균 종가를 가진 회사\n",
    "avg_close = df.groupby('Company')['Close'].mean()\n",
    "sorted_avg_close = avg_close.sort_values(ascending=False)\n",
    "highest_avg_close_company = sorted_avg_close.index[0]\n",
    "print(highest_avg_close_company)\n",
    "\n",
    "#apple의 최소가, 최고가 찾기\n",
    "apple_data = df[df['Company'] == 'Apple']\n",
    "lowest_low = apple_data['Low'].min()\n",
    "highest_high = apple_data['High'].max()\n",
    "print(lowest_low, highest_high)\n",
    "\n",
    "#'Apple' 회사의 일별 가격 변동률 계산 및 가장 큰 변동률 가진 날짜 찾기\n",
    "apple_data = df[df['Company'] == 'Apple']\n",
    "apple_data['Change'] = (apple_data['Close'] - apple_data['Open']) / apple_data['Open'] * 100\n",
    "sorted_change = apple_data['Change'].sort_values(ascending=False)\n",
    "max_change_date = apple_data.loc[sorted_change.index[0], 'Date']\n",
    "print(max_change_date)"
   ]
  }
 ],
 "metadata": {
  "hide_input": false,
  "kernelspec": {
   "display_name": "Python 3 (ipykernel)",
   "language": "python",
   "name": "python3"
  },
  "language_info": {
   "codemirror_mode": {
    "name": "ipython",
    "version": 3
   },
   "file_extension": ".py",
   "mimetype": "text/x-python",
   "name": "python",
   "nbconvert_exporter": "python",
   "pygments_lexer": "ipython3",
   "version": "3.8.10"
  }
 },
 "nbformat": 4,
 "nbformat_minor": 5
}
